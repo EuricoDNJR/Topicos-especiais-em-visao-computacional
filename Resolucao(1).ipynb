{
 "cells": [
  {
   "cell_type": "markdown",
   "metadata": {
    "id": "HMQYkOApp7jF"
   },
   "source": [
    "Clique aqui para ter acesso ao [mini-paper](https://www.overleaf.com/7983964188fsswxxqddwgh).\n"
   ]
  },
  {
   "cell_type": "markdown",
   "metadata": {
    "id": "wwDEdMFijTxs"
   },
   "source": [
    "\n",
    "# Atividade: \n",
    "\n",
    "## Implementar os seguintes atributos em uma imagem:\n",
    "\n",
    "- Média\n",
    "- Variância\n",
    "- Skewness\n",
    "- Kurtosis\n",
    "- Energia\n",
    "- Entropia"
   ]
  },
  {
   "cell_type": "markdown",
   "metadata": {
    "id": "oyKku8JFkJED"
   },
   "source": [
    "Utilizar a base de imagens do trabalho anterior\n",
    "- Calcular os atributos de primeira ordem para cada imagem, e criar uma matriz\n",
    "- Plotar os atributos dois a dois (scatter plot)\n",
    "- A entrega será:\n",
    "    - Notebook com os códigos;\n",
    "    - Short paper de até 4 páginas com:\n",
    "        - Introdução: apresentar o problema/base escolhida;\n",
    "        - Metodologia: explicar os atributos e como são calculados;\n",
    "        - Resultados: resultado da classificação e scatter plots dos atributos;\n",
    "        - Extra: plotar os atributos utilizando um algoritmo de redução de dimensionalidade, ex: PCA, t-SNE;\n",
    "        - Conclusão.\n",
    "\n",
    "Implemente as seguintes transformações de intensidade:\n",
    "* Alargamento de contraste: s=T(r)=(1/(1+((k/r)E^))).\n",
    "* Negativo: s=L−1−r.\n",
    "* Logarítmico:s=clog(1+r).\n",
    "* Potência: s=(cr)^y.\n",
    "\n",
    "a. Cada transformação deverá ser implementada utilizando pelo menos 4 configurações diferentes de parâmetros (exceto o negativo). \n",
    "\n",
    "b. Utilize as funções de transformação de intensidade como pré-processamento do trabalho anterior, reporte os resultados de classificação obtidos com as diferentes funções.\n",
    "\n",
    "    i. Adicione os resultados no relatório do trabalho anterior;\n",
    "\n",
    "    ii. Na seção de metodologia adicione e explique as funções de alargamento de contraste;\n",
    "\n",
    "    iii. Na seção de resultados adicione tabelas com os resultados obtidos pelas funções e explique as diferenças obtidas em cada transformação.\n",
    "\n",
    "    iv. Adicione imagens que justifiquem suas explicações.\n",
    "\n",
    "- Entrega e apresentação: 10/01/2022"
   ]
  },
  {
   "cell_type": "code",
   "execution_count": 1,
   "metadata": {
    "id": "3k9GV6u0ykdp"
   },
   "outputs": [],
   "source": [
    "from skimage.io import imread\n",
    "from skimage.exposure import histogram\n",
    "from skimage.color import rgb2gray\n",
    "import numpy as np\n",
    "from scipy.stats import entropy, skew, kurtosis\n",
    "from glob import glob\n",
    "\n",
    "import os"
   ]
  },
  {
   "cell_type": "code",
   "execution_count": 2,
   "metadata": {},
   "outputs": [],
   "source": [
    "def energy(x):\n",
    "    return np.sum(np.power(x, 2))"
   ]
  },
  {
   "cell_type": "code",
   "execution_count": 3,
   "metadata": {},
   "outputs": [],
   "source": [
    "# def kurtosis(x):\n",
    "#     media = np.mean(x)\n",
    "#     var = np.var(x)\n",
    "#     kur = np.sum((x - media) ** 4) / (len(x) * var ** 2)\n",
    "#     return kur"
   ]
  },
  {
   "cell_type": "code",
   "execution_count": 4,
   "metadata": {
    "id": "ET2qJ-Ajfeve"
   },
   "outputs": [],
   "source": [
    "# def skew(x):\n",
    "#     media = np.mean(x)\n",
    "#     var = np.var(x)\n",
    "#     sk = np.sum((x - media) ** 3) / (len(x) * var ** (3/2))\n",
    "#     return sk"
   ]
  },
  {
   "cell_type": "code",
   "execution_count": 5,
   "metadata": {
    "id": "K_77_a9GpEZP"
   },
   "outputs": [],
   "source": [
    "def descritor_histograma(imagem):\n",
    "    frequencias, _ = np.histogram(imagem, bins=256, density=True)\n",
    "\n",
    "    media = np.mean(frequencias)\n",
    "\n",
    "    var = np.var(frequencias)\n",
    "\n",
    "    sk = skew(frequencias)\n",
    "\n",
    "    kur = kurtosis(frequencias)\n",
    "\n",
    "    ener = energy(frequencias)\n",
    "    \n",
    "    entr = entropy(frequencias)\n",
    "\n",
    "    return [media,var,sk,kur,ener,entr]"
   ]
  },
  {
   "cell_type": "code",
   "execution_count": 6,
   "metadata": {
    "id": "HMq3KiKzyEPh"
   },
   "outputs": [],
   "source": [
    "def load_data(DATABASE_PATH, classes, qtd_imagens=1000):\n",
    "    x = []\n",
    "    y = []\n",
    "    for i, classe in enumerate(classes):\n",
    "        IMAGES_PATH = classe + '/images'\n",
    "\n",
    "        IMAGES_NAME = glob(os.path.join(DATABASE_PATH, IMAGES_PATH, '*.png'))\n",
    "\n",
    "        for IMAGE_NAME in IMAGES_NAME[0:qtd_imagens]:\n",
    "            img = imread(IMAGE_NAME, as_gray=True)\n",
    "\n",
    "            instancia = descritor_histograma(img)\n",
    "            y.append(i)\n",
    "            \n",
    "            x.append(instancia)\n",
    "\n",
    "    return x,y"
   ]
  },
  {
   "cell_type": "code",
   "execution_count": 7,
   "metadata": {
    "id": "cm7jKd-5yIie",
    "scrolled": true
   },
   "outputs": [],
   "source": [
    "DATABASE_PATH = 'COVID-19_Radiography_Dataset'\n",
    "\n",
    "classes = ['Normal', 'COVID', 'Viral Pneumonia']\n",
    "\n",
    "x, y = load_data(DATABASE_PATH, classes, 1000)"
   ]
  },
  {
   "cell_type": "code",
   "execution_count": 44,
   "metadata": {
    "id": "uGzaMtLSkLAA"
   },
   "outputs": [],
   "source": [
    "from sklearn.model_selection import train_test_split\n",
    "from sklearn.neural_network import MLPClassifier as mlp\n",
    "from sklearn.metrics import accuracy_score as acc\n",
    "\n",
    "def classification(X,y):\n",
    "\n",
    "    \"\"\"\n",
    "    X é uma matriz onde cada linha corresponde aos atributos calculados com o descritor\n",
    "    y são os rótulos da classe de cada imagem. Exemplo [0,1,0,0,1,2,2,0,0,0,...,1]\n",
    "    \"\"\"\n",
    "    \n",
    "    # separar conjuntos de treino e teste\n",
    "    X_train,X_test,y_train,y_test = train_test_split(X,y,train_size=0.8, shuffle=True, random_state=42)\n",
    "    # criar instancia do classificador\n",
    "    clf = mlp()\n",
    "    # treinar o classificador\n",
    "    clf.fit(X_train,y_train)\n",
    "    # realizar a predicao\n",
    "    pred = clf.predict(X_test)\n",
    "    # calcular o resultado utilizando a acuracia\n",
    "    acuracia = acc(y_test,pred)\n",
    "    \n",
    "    return acuracia"
   ]
  },
  {
   "cell_type": "code",
   "execution_count": 45,
   "metadata": {
    "id": "QQBfymOP4CEH"
   },
   "outputs": [],
   "source": [
    "acc = classification(x,y)"
   ]
  },
  {
   "cell_type": "code",
   "execution_count": 46,
   "metadata": {
    "id": "WCst-2fS4CBl"
   },
   "outputs": [
    {
     "name": "stdout",
     "output_type": "stream",
     "text": [
      "0.5283333333333333\n"
     ]
    }
   ],
   "source": [
    "print(acc)"
   ]
  },
  {
   "cell_type": "code",
   "execution_count": 35,
   "metadata": {
    "id": "uQ9MqgVdfevs"
   },
   "outputs": [
    {
     "name": "stdout",
     "output_type": "stream",
     "text": [
      "Requirement already satisfied: matplotlib in c:\\users\\euric\\appdata\\local\\packages\\pythonsoftwarefoundation.python.3.9_qbz5n2kfra8p0\\localcache\\local-packages\\python39\\site-packages (3.6.2)\n",
      "Requirement already satisfied: packaging>=20.0 in c:\\users\\euric\\appdata\\local\\packages\\pythonsoftwarefoundation.python.3.9_qbz5n2kfra8p0\\localcache\\local-packages\\python39\\site-packages (from matplotlib) (20.9)\n",
      "Requirement already satisfied: numpy>=1.19 in c:\\users\\euric\\appdata\\local\\packages\\pythonsoftwarefoundation.python.3.9_qbz5n2kfra8p0\\localcache\\local-packages\\python39\\site-packages (from matplotlib) (1.20.1)\n",
      "Requirement already satisfied: pyparsing>=2.2.1 in c:\\users\\euric\\appdata\\local\\packages\\pythonsoftwarefoundation.python.3.9_qbz5n2kfra8p0\\localcache\\local-packages\\python39\\site-packages (from matplotlib) (2.4.7)\n",
      "Requirement already satisfied: python-dateutil>=2.7 in c:\\users\\euric\\appdata\\local\\packages\\pythonsoftwarefoundation.python.3.9_qbz5n2kfra8p0\\localcache\\local-packages\\python39\\site-packages (from matplotlib) (2.8.1)\n",
      "Requirement already satisfied: kiwisolver>=1.0.1 in c:\\users\\euric\\appdata\\local\\packages\\pythonsoftwarefoundation.python.3.9_qbz5n2kfra8p0\\localcache\\local-packages\\python39\\site-packages (from matplotlib) (1.4.4)\n",
      "Requirement already satisfied: cycler>=0.10 in c:\\users\\euric\\appdata\\local\\packages\\pythonsoftwarefoundation.python.3.9_qbz5n2kfra8p0\\localcache\\local-packages\\python39\\site-packages (from matplotlib) (0.11.0)\n",
      "Requirement already satisfied: fonttools>=4.22.0 in c:\\users\\euric\\appdata\\local\\packages\\pythonsoftwarefoundation.python.3.9_qbz5n2kfra8p0\\localcache\\local-packages\\python39\\site-packages (from matplotlib) (4.38.0)\n",
      "Requirement already satisfied: pillow>=6.2.0 in c:\\users\\euric\\appdata\\local\\packages\\pythonsoftwarefoundation.python.3.9_qbz5n2kfra8p0\\localcache\\local-packages\\python39\\site-packages (from matplotlib) (9.4.0)\n",
      "Requirement already satisfied: contourpy>=1.0.1 in c:\\users\\euric\\appdata\\local\\packages\\pythonsoftwarefoundation.python.3.9_qbz5n2kfra8p0\\localcache\\local-packages\\python39\\site-packages (from matplotlib) (1.0.6)\n",
      "Requirement already satisfied: six>=1.5 in c:\\users\\euric\\appdata\\local\\packages\\pythonsoftwarefoundation.python.3.9_qbz5n2kfra8p0\\localcache\\local-packages\\python39\\site-packages (from python-dateutil>=2.7->matplotlib) (1.15.0)\n",
      "Note: you may need to restart the kernel to use updated packages.\n"
     ]
    },
    {
     "name": "stderr",
     "output_type": "stream",
     "text": [
      "WARNING: You are using pip version 22.0.4; however, version 22.3.1 is available.\n",
      "You should consider upgrading via the 'C:\\Users\\euric\\AppData\\Local\\Microsoft\\WindowsApps\\PythonSoftwareFoundation.Python.3.9_qbz5n2kfra8p0\\python.exe -m pip install --upgrade pip' command.\n"
     ]
    }
   ],
   "source": [
    "%pip install matplotlib\n",
    "from skimage.io import imread,imsave\n",
    "import matplotlib.pyplot as plt\n",
    "from PIL import Image\n",
    "import math"
   ]
  },
  {
   "cell_type": "code",
   "execution_count": 36,
   "metadata": {
    "id": "RR_KL8FAfevw"
   },
   "outputs": [
    {
     "data": {
      "text/plain": [
       "<matplotlib.image.AxesImage at 0x2bf613d5910>"
      ]
     },
     "execution_count": 36,
     "metadata": {},
     "output_type": "execute_result"
    },
    {
     "data": {
      "image/png": "[encoded data removed]",
      "text/plain": [
       "<Figure size 432x288 with 1 Axes>"
      ]
     },
     "metadata": {
      "needs_background": "light"
     },
     "output_type": "display_data"
    }
   ],
   "source": [
    "#imagem = imread('COVID-19_Radiography_Dataset\\COVID\\images\\COVID-1.png')\n",
    "img = imread('COVID-19_Radiography_Dataset\\COVID\\images\\COVID-1.png')\n",
    "plt.imshow(img, cmap='gray')"
   ]
  },
  {
   "cell_type": "code",
   "execution_count": 37,
   "metadata": {},
   "outputs": [],
   "source": [
    "def calculo_de_contraste(pixel, k, E):\n",
    "    if pixel == 0:\n",
    "        return 0\n",
    "    else:\n",
    "        return 1/(1 + (k/pixel)**E)"
   ]
  },
  {
   "cell_type": "code",
   "execution_count": null,
   "metadata": {
    "id": "rmAQhUl7fevz"
   },
   "outputs": [],
   "source": [
    "def alargamento_de_contraste(path, img_filename, img):\n",
    "    values_k = [25, 50, 75, 100]\n",
    "    E = 2\n",
    "    image_array = np.array(img)\n",
    "    for k in values_k:\n",
    "        if not os.path.exists('{}k={}-E={}'.format(path, k, E)):\n",
    "            os.makedirs('{}k={}-E={}'.format(path, k, E))\n",
    "        image_copy = image_array.copy()\n",
    "        for i in range(img.shape[0]):\n",
    "            for j in range(img.shape[1]):\n",
    "                novo_pixel = calculo_de_contraste(image_copy[i][j], k, E)\n",
    "                image_copy[i][j] = int(novo_pixel * 255)\n",
    "                \n",
    "        image = Image.fromarray(image_copy)\n",
    "        image.save(\"{}k={}-E={}/{}.png\".format(path, k, E, img_filename))"
   ]
  },
  {
   "cell_type": "code",
   "execution_count": null,
   "metadata": {},
   "outputs": [],
   "source": [
    "def calculo_de_negativo(pixel):\n",
    "    return 255-pixel"
   ]
  },
  {
   "cell_type": "code",
   "execution_count": null,
   "metadata": {},
   "outputs": [],
   "source": [
    "def negativo(path, img_filename, img):\n",
    "    image_array = np.array(img)\n",
    "    image_copy = image_array.copy()\n",
    "    for i in range(img.shape[0]):\n",
    "        for j in range(img.shape[1]):\n",
    "            novo_pixel = calculo_de_negativo(image_copy[i][j])\n",
    "            image_copy[i][j] = int(novo_pixel * 255)\n",
    "                \n",
    "        image = Image.fromarray(image_copy)\n",
    "        image.save(\"{}{}.png\".format(path, img_filename))"
   ]
  },
  {
   "cell_type": "code",
   "execution_count": null,
   "metadata": {},
   "outputs": [],
   "source": [
    "def calculo_logaritmico(pixel, c):\n",
    "    return c*math.log(1 + pixel)"
   ]
  },
  {
   "cell_type": "code",
   "execution_count": null,
   "metadata": {},
   "outputs": [],
   "source": [
    "def transformacao_logaritmica(path, img_filename, img):\n",
    "    values_c = [1, 5, 15, 30]\n",
    "    image_array = np.array(img)\n",
    "    for c in values_c:\n",
    "        if not os.path.exists('{}c={}'.format(path, c)):\n",
    "            os.makedirs('{}c={}'.format(path, c))\n",
    "        image_copy = image_array.copy()\n",
    "        for i in range(img.shape[0]):\n",
    "            for j in range(img.shape[1]):\n",
    "                novo_pixel = calculo_logaritmico(image_copy[i][j], c)\n",
    "                image_copy[i][j] = int(novo_pixel * 255)\n",
    "                \n",
    "        image = Image.fromarray(image_copy)\n",
    "        image.save(\"{}c={}/{}.png\".format(path, c, img_filename))"
   ]
  },
  {
   "cell_type": "code",
   "execution_count": null,
   "metadata": {},
   "outputs": [],
   "source": [
    "def calculo_potencia(pixel, c, y):\n",
    "    return c* (pixel/256) ** y"
   ]
  },
  {
   "cell_type": "code",
   "execution_count": null,
   "metadata": {},
   "outputs": [],
   "source": [
    "def transformacao_potencia(path, img_filename, img):\n",
    "    c = 1\n",
    "    values_y = [0.04, 0.4, 2.5, 5]\n",
    "    image_array = np.array(img)\n",
    "    for y in values_y:\n",
    "        if not os.path.exists('{}c={}-y={}'.format(path, c, y)):\n",
    "            os.makedirs('{}c={}-y={}'.format(path, c, y))\n",
    "        image_copy = image_array.copy()\n",
    "        for i in range(img.shape[0]):\n",
    "            for j in range(img.shape[1]):\n",
    "                novo_pixel = calculo_potencia(image_copy[i][j], c, y)\n",
    "                image_copy[i][j] = int(novo_pixel * 255)\n",
    "                \n",
    "        image = Image.fromarray(image_copy)\n",
    "        image.save(\"{}c={}-y={}/{}.png\".format(path, c, y, img_filename))"
   ]
  },
  {
   "cell_type": "code",
   "execution_count": null,
   "metadata": {},
   "outputs": [],
   "source": [
    "#test = 'abashala\\\\sadadad.png'\n",
    "#print(nome_arquivo(test))"
   ]
  },
  {
   "cell_type": "code",
   "execution_count": null,
   "metadata": {},
   "outputs": [],
   "source": [
    "def nome_arquivo(image_path):\n",
    "    #print(image_path)\n",
    "    for i in range(len(image_path) - 1, -1, -1):\n",
    "        if image_path[i] == '\\\\':\n",
    "            break\n",
    "    image_name = image_path[i + 1: len(image_path) - 4]\n",
    "    return image_name"
   ]
  },
  {
   "cell_type": "code",
   "execution_count": null,
   "metadata": {},
   "outputs": [],
   "source": [
    "def files_exists_verify(DATABASE_PATH, classe):\n",
    "    if not os.path.exists(DATABASE_PATH+'/'+ classe+'/alargamento_de_contraste'):\n",
    "        os.makedirs(DATABASE_PATH+'/'+ classe+'/alargamento_de_contraste')\n",
    "    if not os.path.exists(DATABASE_PATH+'/'+ classe+'/negativo'):\n",
    "        os.makedirs(DATABASE_PATH+'/'+ classe+'/negativo')\n",
    "    if not os.path.exists(DATABASE_PATH+'/'+ classe+'/transformacao_logaritmica'):\n",
    "        os.makedirs(DATABASE_PATH+'/'+ classe+'/transformacao_logaritmica')\n",
    "    if not os.path.exists(DATABASE_PATH+'/'+ classe+'/transformacao_potencia'):\n",
    "        os.makedirs(DATABASE_PATH+'/'+ classe+'/transformacao_potencia')"
   ]
  },
  {
   "cell_type": "code",
   "execution_count": null,
   "metadata": {},
   "outputs": [],
   "source": [
    "def load_data_copiado_XD(DATABASE_PATH, classes, qtd_imagens=1000):\n",
    "    for i, classe in enumerate(classes):\n",
    "        IMAGES_PATH = classe + '/images'\n",
    "        files_exists_verify(DATABASE_PATH, classe)\n",
    "        IMAGES_NAME = glob(os.path.join(DATABASE_PATH, IMAGES_PATH, '*.png'))\n",
    "        for IMAGE_NAME in IMAGES_NAME[0:qtd_imagens]:\n",
    "            img = imread(IMAGE_NAME, as_gray=True)\n",
    "            filename = nome_arquivo(IMAGE_NAME)\n",
    "            \n",
    "            alargamento_de_contraste(DATABASE_PATH+'/'+ classe+'/alargamento_de_contraste/', filename, img)\n",
    "            negativo(DATABASE_PATH+'/'+ classe+'/negativo/', filename, img)\n",
    "            transformacao_logaritmica(DATABASE_PATH+'/'+ classe+'/transformacao_logaritmica/', filename, img)\n",
    "            transformacao_potencia(DATABASE_PATH+'/'+ classe+'/transformacao_potencia/', filename, img)\n",
    "            "
   ]
  },
  {
   "cell_type": "code",
   "execution_count": null,
   "metadata": {},
   "outputs": [],
   "source": [
    "DATABASE_PATH = 'COVID-19_Radiography_Dataset'\n",
    "\n",
    "classes = ['Normal', 'COVID', 'Viral Pneumonia']\n",
    "\n",
    "load_data_copiado_XD(DATABASE_PATH, classes, 2)"
   ]
  },
  {
   "cell_type": "code",
   "execution_count": null,
   "metadata": {},
   "outputs": [],
   "source": []
  },
  {
   "cell_type": "code",
   "execution_count": null,
   "metadata": {},
   "outputs": [],
   "source": []
  },
  {
   "cell_type": "code",
   "execution_count": null,
   "metadata": {
    "id": "RuCRQfRHfev1"
   },
   "outputs": [],
   "source": [
    "alargamento_de_contraste(img)"
   ]
  },
  {
   "cell_type": "code",
   "execution_count": null,
   "metadata": {},
   "outputs": [],
   "source": [
    "negativo(img)"
   ]
  },
  {
   "cell_type": "code",
   "execution_count": null,
   "metadata": {},
   "outputs": [],
   "source": [
    "transformacao_logaritmica(img)"
   ]
  },
  {
   "cell_type": "code",
   "execution_count": null,
   "metadata": {},
   "outputs": [],
   "source": [
    "transformacao_potencia(img)"
   ]
  },
  {
   "cell_type": "markdown",
   "metadata": {
    "id": "dRer8mTF4CdI"
   },
   "source": [
    "### Plotar os atributos dois a dois (scatter plot)"
   ]
  },
  {
   "cell_type": "code",
   "execution_count": null,
   "metadata": {
    "id": "RPJLoFPl4HK3"
   },
   "outputs": [],
   "source": [
    "from google.colab import drive\n",
    "drive.mount('/content/drive')"
   ]
  },
  {
   "cell_type": "code",
   "execution_count": null,
   "metadata": {
    "id": "0laH2LUr4Xn0"
   },
   "outputs": [],
   "source": [
    "# Importar as bibliotecas utilziadas\n",
    "import pandas as pd\n",
    "import numpy as np\n",
    "import matplotlib.pyplot as plt\n",
    "%matplotlib inline"
   ]
  },
  {
   "cell_type": "code",
   "execution_count": null,
   "metadata": {
    "id": "mD1SOpRZ4DfU"
   },
   "outputs": [],
   "source": [
    "# carregar o data set\n",
    "dataset = pd.read_csv('/content/drive/MyDrive/1.Projetos/3.Topicos_em_Visão_computacional/1_Trabalho/dataset_covid19.csv')"
   ]
  },
  {
   "cell_type": "code",
   "execution_count": null,
   "metadata": {
    "id": "bRk-A0E14vyx"
   },
   "outputs": [],
   "source": [
    "dataset.head(10)"
   ]
  },
  {
   "cell_type": "code",
   "execution_count": null,
   "metadata": {
    "id": "6gaQwwYI6JF2"
   },
   "outputs": [],
   "source": [
    "type(dataset)"
   ]
  },
  {
   "cell_type": "code",
   "execution_count": null,
   "metadata": {
    "id": "pGmgnBqA79lb"
   },
   "outputs": [],
   "source": [
    "ax2 = df.plot.scatter("
   ]
  },
  {
   "cell_type": "code",
   "execution_count": null,
   "metadata": {
    "id": "AZtaAs8Y40f6"
   },
   "outputs": [],
   "source": [
    "def plot_scatter(dataset: pd.core.frame.DataFrame, height: str, weight: str, classe: str):\n",
    "  dataset.plot.scatter(x='length',\n",
    "                       y='width',\n",
    "                       c='species',\n",
    "                       colormap= ['blue','green','yellow'] ))"
   ]
  },
  {
   "cell_type": "code",
   "execution_count": null,
   "metadata": {
    "id": "yYO4kQ2D8mFn"
   },
   "outputs": [],
   "source": [
    "dataset.plot(kind='scatter', x='Média', y='Variância', alpha=1, c=dataset['Doença'], figsize=(10,7), cmap=plt.get_cmap('jet'))\n",
    "\n",
    "plt.show()"
   ]
  },
  {
   "cell_type": "code",
   "execution_count": null,
   "metadata": {
    "id": "5-3TYZgf5U4X"
   },
   "outputs": [],
   "source": [
    "plot_scatter(dataset, 'Variância', 'Variância'\t, 'Doença')"
   ]
  },
  {
   "cell_type": "code",
   "execution_count": null,
   "metadata": {
    "id": "_yOgMrtj5bD9"
   },
   "outputs": [],
   "source": []
  }
 ],
 "metadata": {
  "colab": {
   "provenance": []
  },
  "kernelspec": {
   "display_name": "Python 3",
   "language": "python",
   "name": "python3"
  },
  "language_info": {
   "codemirror_mode": {
    "name": "ipython",
    "version": 3
   },
   "file_extension": ".py",
   "mimetype": "text/x-python",
   "name": "python",
   "nbconvert_exporter": "python",
   "pygments_lexer": "ipython3",
   "version": "3.9.13"
  },
  "vscode": {
   "interpreter": {
    "hash": "8f3cc1205e6fe73042b2d5d59efaccb7c92757c1bc7f53243a288b8cdd66ffc6"
   }
  }
 },
 "nbformat": 4,
 "nbformat_minor": 1
}
