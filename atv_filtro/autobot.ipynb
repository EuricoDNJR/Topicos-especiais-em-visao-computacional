{
 "cells": [
  {
   "cell_type": "code",
   "execution_count": null,
   "metadata": {},
   "outputs": [],
   "source": [
    "import numpy as np\n",
    "import matplotlib.pyplot as plt\n",
    "from skimage.io import imread\n",
    "from skimage.util import random_noise"
   ]
  },
  {
   "cell_type": "code",
   "execution_count": null,
   "metadata": {},
   "outputs": [],
   "source": [
    "# Carregando a imagem\n",
    "img = imread('picos.jpg')\n",
    "plt.imshow(img, cmap='gray')\n",
    "\n",
    "img.shape"
   ]
  },
  {
   "cell_type": "code",
   "execution_count": null,
   "metadata": {},
   "outputs": [],
   "source": [
    "# Carregando a imagem\n",
    "img = imread('mulher-ruido.png')\n",
    "plt.imshow(img, cmap='gray')\n",
    "\n",
    "img.shape"
   ]
  },
  {
   "cell_type": "code",
   "execution_count": null,
   "metadata": {},
   "outputs": [],
   "source": [
    "def imagemProcessada(imagem, a, b, borda):\n",
    "    imagem_processada = None\n",
    "    \n",
    "    if borda == 'ignore':\n",
    "        imagem_processada = np.delete(np.zeros(imagem.shape), range(a*2), axis=0)\n",
    "        imagem_processada = np.delete(imagem_processada, range(b*2), axis=1)\n",
    "    elif borda in ('espelho', 'zero', 'replicar'):\n",
    "        imagem_processada = np.zeros(imagem.shape)\n",
    "        \n",
    "    return imagem_processada"
   ]
  },
  {
   "cell_type": "code",
   "execution_count": null,
   "metadata": {},
   "outputs": [],
   "source": [
    "# def trataBordas(imagem, a, b, borda='ignore'):\n",
    "#     imagem_bordas_tratadas = None\n",
    "    \n",
    "#     quantidades = (a, b)\n",
    "\n",
    "#     if borda == 'ignore':\n",
    "#         imagem_bordas_tratadas = imagem.copy()\n",
    "#     elif borda in ('espelho', 'zero', 'replicar'):\n",
    "#         imagem_bordas_tratadas = np.insert(np.zeros(imagem.shape), range(a*2), [0], axis=0)\n",
    "#         imagem_bordas_tratadas = np.insert(imagem_bordas_tratadas, range(b*2), [0], axis=1)\n",
    "        \n",
    "#         imagem_bordas_tratadas[a:imagem.shape[0]+a, b:imagem.shape[1]+b] = imagem.copy()\n",
    "        \n",
    "#         if borda in ('espelho', 'replicar'):\n",
    "#             for i_img, i_img_bordas in ((0, 0), (imagem.shape[0]-1, imagem.shape[0]+a)):\n",
    "#                 for j_img, j_img_bordas in ((0, 0), (imagem.shape[1]-1, imagem.shape[1]+b)):\n",
    "#                     imagem_bordas_tratadas[i_img_bordas:i_img_bordas+a, j_img_bordas:j_img_bordas+b] = imagem[i_img, j_img]\n",
    "            \n",
    "#             if borda == 'espelho':\n",
    "#                 for i in range(a):\n",
    "#                     imagem_bordas_tratadas[a-i-1, b:imagem.shape[1]+b] = imagem[i, :]\n",
    "#                     imagem_bordas_tratadas[imagem.shape[0]+a+i, b:imagem.shape[1]+b] = imagem[imagem.shape[0]-1-i, :]\n",
    "                \n",
    "#                 imagem_bordas_tratadas = imagem_bordas_tratadas.T\n",
    "                \n",
    "#                 for i in range(b):\n",
    "#                     imagem_bordas_tratadas[b-i-1, a:imagem.shape[0]+a] = imagem[:, i]\n",
    "#                     imagem_bordas_tratadas[imagem.shape[1]+b+i, a:imagem.shape[0]+a] = imagem[:, imagem.shape[1]-1-i]\n",
    "            \n",
    "#                 imagem_bordas_tratadas = imagem_bordas_tratadas.T\n",
    "#             elif borda == 'replicar':\n",
    "#                 imagem_bordas_tratadas[0:a, b:imagem.shape[1]+b] = imagem[0, :]\n",
    "#                 imagem_bordas_tratadas[imagem.shape[0]+a:imagem.shape[0]+a+a, b:imagem.shape[1]+b] = imagem[-1, :]\n",
    "                \n",
    "#                 imagem_bordas_tratadas = imagem_bordas_tratadas.T\n",
    "                \n",
    "#                 imagem_bordas_tratadas[0:b, a:imagem.shape[0]+a] = imagem[:, 0]\n",
    "#                 imagem_bordas_tratadas[imagem.shape[1]+b:imagem.shape[1]+b+b, a:imagem.shape[0]+a] = imagem[:, -1]\n",
    "            \n",
    "#                 imagem_bordas_tratadas = imagem_bordas_tratadas.T\n",
    "                \n",
    "#     return imagem_bordas_tratadas"
   ]
  },
  {
   "cell_type": "code",
   "execution_count": null,
   "metadata": {},
   "outputs": [],
   "source": [
    "def trataBordas(imagem, a, b, borda='ignore'):\n",
    "    imagem_bordas_tratadas = None\n",
    "    \n",
    "    quantidades = (a, b)\n",
    "\n",
    "    if borda == 'ignore':\n",
    "        imagem_bordas_tratadas = imagem.copy()\n",
    "    elif borda in ('espelho', 'zero', 'replicar'):\n",
    "        imagem_bordas_tratadas = np.insert(np.zeros(imagem.shape), range(a*2), [0], axis=0)\n",
    "        imagem_bordas_tratadas = np.insert(imagem_bordas_tratadas, range(b*2), [0], axis=1)\n",
    "        \n",
    "        imagem_bordas_tratadas[a:imagem.shape[0]+a, b:imagem.shape[1]+b] = imagem.copy()\n",
    "        \n",
    "        if borda in ('espelho', 'replicar'):\n",
    "            if borda == 'espelho':\n",
    "                for i in range(a):\n",
    "                    imagem_bordas_tratadas[a-i-1, b:imagem.shape[1]+b] = imagem[i, :]\n",
    "                    imagem_bordas_tratadas[imagem.shape[0]+a+i, b:imagem.shape[1]+b] = imagem[imagem.shape[0]-1-i, :]\n",
    "                \n",
    "                imagem_bordas_tratadas = imagem_bordas_tratadas.T\n",
    "                \n",
    "                for i in range(b):\n",
    "                    imagem_bordas_tratadas[b-i-1, :] = imagem_bordas_tratadas[a+i, :]\n",
    "                    imagem_bordas_tratadas[imagem.shape[1]+b+i, :] = imagem_bordas_tratadas[imagem.shape[1]+a-i, :]\n",
    "            \n",
    "                imagem_bordas_tratadas = imagem_bordas_tratadas.T\n",
    "            elif borda == 'replicar':\n",
    "                imagem_bordas_tratadas[0:a, b:imagem.shape[1]+b] = imagem[0, :]\n",
    "                imagem_bordas_tratadas[imagem.shape[0]+a:imagem.shape[0]+a+a, b:imagem.shape[1]+b] = imagem[-1, :]\n",
    "                \n",
    "                imagem_bordas_tratadas = imagem_bordas_tratadas.T\n",
    "                \n",
    "                imagem_bordas_tratadas[0:b, :] = imagem_bordas_tratadas[b, :]\n",
    "                imagem_bordas_tratadas[imagem.shape[1]+b:imagem.shape[1]+b+b, :] = imagem_bordas_tratadas[imagem.shape[1]+b-1, :]\n",
    "            \n",
    "                imagem_bordas_tratadas = imagem_bordas_tratadas.T\n",
    "                \n",
    "    return imagem_bordas_tratadas"
   ]
  },
  {
   "cell_type": "code",
   "execution_count": null,
   "metadata": {},
   "outputs": [],
   "source": [
    "def convolucao(imagem, filtro, borda='ignore'): \n",
    "    a = (filtro.shape[0] - 1)//2 # linhas\n",
    "    b = (filtro.shape[1] - 1)//2 # colunas\n",
    "    \n",
    "    imagem_processada = imagemProcessada(imagem, a, b, borda)\n",
    "    \n",
    "    try:\n",
    "        # Imagens com + de 1 canal\n",
    "        canais = imagem.shape[2]\n",
    "        \n",
    "        for canal in range(canais):\n",
    "            canal_bordas_tratadas = trataBordas(imagem[:, :, canal], a, b, borda)\n",
    "        \n",
    "            linha_fim = canal_bordas_tratadas.shape[0] - a\n",
    "            coluna_fim = canal_bordas_tratadas.shape[1] - b\n",
    "\n",
    "            for i in range(a, linha_fim):\n",
    "                for j in range(b, coluna_fim):\n",
    "                    imagem_processada[i-a, j-b, canal] = (canal_bordas_tratadas[i-a: i+a+1, j-b:j+b+1] * filtro).sum()\n",
    "    except:\n",
    "        canal_bordas_tratadas = trataBordas(imagem, a, b, borda)\n",
    "        \n",
    "        linha_fim = canal_bordas_tratadas.shape[0] - a\n",
    "        coluna_fim = canal_bordas_tratadas.shape[1] - b\n",
    "\n",
    "        for i in range(a, linha_fim):\n",
    "            for j in range(b, coluna_fim):\n",
    "                imagem_processada[i-a, j-b] = (canal_bordas_tratadas[i-a: i+a+1, j-b:j+b+1] * filtro).sum()\n",
    "    \n",
    "    return imagem_processada.astype('int')"
   ]
  },
  {
   "cell_type": "code",
   "execution_count": null,
   "metadata": {},
   "outputs": [],
   "source": [
    "filtro = np.ones((3, 3))\n",
    "\n",
    "media = filtro*(1/(3*3))\n",
    "gaussiano = np.array([\n",
    "    [1, 2, 1],\n",
    "    [2, 4, 2],\n",
    "    [1, 2, 1]\n",
    "    ])\n",
    "sobel = np.array([\n",
    "    [-1, 0, 1],\n",
    "    [-2, 0, 2],\n",
    "    [-1, 0, 1]\n",
    "    ])\n",
    "laplaciano = np.array([\n",
    "    [0, 1, 0],\n",
    "    [1, -4, 1],\n",
    "    [0, 1, 0]\n",
    "    ])\n",
    "emboss = np.array([\n",
    "    [-2, -1, 0],\n",
    "    [-1, 1, 1],\n",
    "    [0, 1, 2]\n",
    "    ])"
   ]
  },
  {
   "attachments": {},
   "cell_type": "markdown",
   "metadata": {},
   "source": [
    "# Média\n",
    "\n"
   ]
  },
  {
   "cell_type": "code",
   "execution_count": null,
   "metadata": {},
   "outputs": [],
   "source": [
    "img_ignore = convolucao(img, media, borda='ignore')\n",
    "img_zero = convolucao(img, media, borda='zero')\n",
    "img_espelho = convolucao(img, media, borda='espelho')\n",
    "img_replicar = convolucao(img, media, borda='replicar')\n",
    "fig = plt.figure(figsize=(15, 15))\n",
    "fig.add_subplot(1, 5, 1)\n",
    "plt.title('normal')\n",
    "plt.imshow(img, cmap='gray')\n",
    "fig.add_subplot(1, 5, 2)\n",
    "plt.title('borda ignorada')\n",
    "plt.imshow(img_ignore, cmap='gray')\n",
    "fig.add_subplot(1, 5, 3)\n",
    "plt.title('borda preenchida com zero')\n",
    "plt.imshow(img_zero, cmap='gray')\n",
    "fig.add_subplot(1, 5, 4)\n",
    "plt.title('borda espelhada')\n",
    "plt.imshow(img_espelho, cmap='gray')\n",
    "fig.add_subplot(1, 5, 5)\n",
    "plt.title('borda replicada')    \n",
    "plt.imshow(img_replicar, cmap='gray')"
   ]
  },
  {
   "attachments": {},
   "cell_type": "markdown",
   "metadata": {},
   "source": [
    "# Gaussiano\n",
    "É possivel observar uma suavização da imagens, removendo alguns ruído e detalhes indesejados."
   ]
  },
  {
   "cell_type": "code",
   "execution_count": null,
   "metadata": {},
   "outputs": [],
   "source": [
    "img_ignore = convolucao(img, gaussiano, borda='ignore')\n",
    "img_zero = convolucao(img, gaussiano, borda='zero')\n",
    "img_espelho = convolucao(img, gaussiano, borda='espelho')\n",
    "img_replicar = convolucao(img, gaussiano, borda='replicar')\n",
    "fig = plt.figure(figsize=(15, 15))\n",
    "fig.add_subplot(1, 5, 1)\n",
    "plt.title('normal')\n",
    "plt.imshow(img, cmap='gray')\n",
    "fig.add_subplot(1, 5, 2)\n",
    "plt.title('borda ignorada')\n",
    "plt.imshow(img_ignore, cmap='gray')\n",
    "fig.add_subplot(1, 5, 3)\n",
    "plt.title('borda preenchida com zero')\n",
    "plt.imshow(img_zero, cmap='gray')\n",
    "fig.add_subplot(1, 5, 4)\n",
    "plt.title('borda espelhada')\n",
    "plt.imshow(img_espelho, cmap='gray')\n",
    "fig.add_subplot(1, 5, 5)\n",
    "plt.title('borda replicada')    \n",
    "plt.imshow(img_replicar, cmap='gray')"
   ]
  },
  {
   "attachments": {},
   "cell_type": "markdown",
   "metadata": {},
   "source": [
    "# Sobel\n",
    "Retona as descontinuidades presentes na imagem."
   ]
  },
  {
   "cell_type": "code",
   "execution_count": null,
   "metadata": {},
   "outputs": [],
   "source": [
    "img_ignore = convolucao(img, sobel, borda='ignore')\n",
    "img_zero = convolucao(img, sobel, borda='zero')\n",
    "img_espelho = convolucao(img, sobel, borda='espelho')\n",
    "img_replicar = convolucao(img, sobel, borda='replicar')\n",
    "fig = plt.figure(figsize=(15, 15))\n",
    "fig.add_subplot(1, 5, 1)\n",
    "plt.title('normal')\n",
    "plt.imshow(img, cmap='gray')\n",
    "fig.add_subplot(1, 5, 2)\n",
    "plt.title('borda ignorada')\n",
    "plt.imshow(img_ignore, cmap='gray')\n",
    "fig.add_subplot(1, 5, 3)\n",
    "plt.title('borda preenchida com zero')\n",
    "plt.imshow(img_zero, cmap='gray')\n",
    "fig.add_subplot(1, 5, 4)\n",
    "plt.title('borda espelhada')\n",
    "plt.imshow(img_espelho, cmap='gray')\n",
    "fig.add_subplot(1, 5, 5)\n",
    "plt.title('borda replicada')    \n",
    "plt.imshow(img_replicar, cmap='gray')"
   ]
  },
  {
   "attachments": {},
   "cell_type": "markdown",
   "metadata": {},
   "source": [
    "# Laplaciano\n",
    "Retona as descontinuidades presentes na imagem de forma menos nitida em comparação ao algortmo anterior."
   ]
  },
  {
   "cell_type": "code",
   "execution_count": null,
   "metadata": {},
   "outputs": [],
   "source": [
    "img_ignore = convolucao(img, laplaciano, borda='ignore')\n",
    "img_zero = convolucao(img, laplaciano, borda='zero')\n",
    "img_espelho = convolucao(img, laplaciano, borda='espelho')\n",
    "img_replicar = convolucao(img, laplaciano, borda='replicar')\n",
    "fig = plt.figure(figsize=(15, 15))\n",
    "fig.add_subplot(1, 5, 1)\n",
    "plt.title('normal')\n",
    "plt.imshow(img, cmap='gray')\n",
    "fig.add_subplot(1, 5, 2)\n",
    "plt.title('borda ignorada')\n",
    "plt.imshow(img_ignore, cmap='gray')\n",
    "fig.add_subplot(1, 5, 3)\n",
    "plt.title('borda preenchida com zero')\n",
    "plt.imshow(img_zero, cmap='gray')\n",
    "fig.add_subplot(1, 5, 4)\n",
    "plt.title('borda espelhada')\n",
    "plt.imshow(img_espelho, cmap='gray')\n",
    "fig.add_subplot(1, 5, 5)\n",
    "plt.title('borda replicada')    \n",
    "plt.imshow(img_replicar, cmap='gray')"
   ]
  },
  {
   "attachments": {},
   "cell_type": "markdown",
   "metadata": {},
   "source": [
    "# Emboss\n",
    "Utilizado para dar uma sensação de profundidade na imagem."
   ]
  },
  {
   "cell_type": "code",
   "execution_count": null,
   "metadata": {},
   "outputs": [],
   "source": [
    "img_ignore = convolucao(img, emboss, borda='ignore')\n",
    "img_zero = convolucao(img, emboss, borda='zero')\n",
    "img_espelho = convolucao(img, emboss, borda='espelho')\n",
    "img_replicar = convolucao(img, emboss, borda='replicar')\n",
    "fig = plt.figure(figsize=(15, 15))\n",
    "fig.add_subplot(1, 5, 1)\n",
    "plt.title('normal')\n",
    "plt.imshow(img, cmap='gray')\n",
    "fig.add_subplot(1, 5, 2)\n",
    "plt.title('borda ignorada')\n",
    "plt.imshow(img_ignore, cmap='gray')\n",
    "fig.add_subplot(1, 5, 3)\n",
    "plt.title('Imagem borda preenchida com zero')\n",
    "plt.imshow(img_zero, cmap='gray')\n",
    "fig.add_subplot(1, 5, 4)\n",
    "plt.title('Imagem borda espelhada')\n",
    "plt.imshow(img_espelho, cmap='gray')\n",
    "fig.add_subplot(1, 5, 5)\n",
    "plt.title('Imagem borda replicada')    \n",
    "plt.imshow(img_replicar, cmap='gray')"
   ]
  },
  {
   "cell_type": "markdown",
   "metadata": {},
   "source": [
    "## Filtros não lineares"
   ]
  },
  {
   "cell_type": "code",
   "execution_count": null,
   "metadata": {},
   "outputs": [],
   "source": [
    "img = imread('picos.jpg')\n",
    "plt.imshow(img)\n",
    "\n",
    "img.shape"
   ]
  },
  {
   "cell_type": "code",
   "execution_count": null,
   "metadata": {},
   "outputs": [],
   "source": [
    "kernel = np.ones((5, 5))"
   ]
  },
  {
   "cell_type": "code",
   "execution_count": null,
   "metadata": {},
   "outputs": [],
   "source": [
    "def median(imagem_bordas_tratadas, imagem_processada, linhas_add, colunas_add):\n",
    "    for i in range(linhas_add, imagem_bordas_tratadas.shape[0] - linhas_add):\n",
    "        for j in range(colunas_add, imagem_bordas_tratadas.shape[1] - colunas_add):\n",
    "            imagem_processada[i - linhas_add][j - colunas_add] = np.median(imagem_bordas_tratadas[i - linhas_add:i + linhas_add + 1, j - colunas_add:j + colunas_add + 1])\n",
    "    return imagem_processada"
   ]
  },
  {
   "cell_type": "code",
   "execution_count": null,
   "metadata": {},
   "outputs": [],
   "source": [
    "def calc_moda(kernel):\n",
    "    vals, counts = np.unique(kernel, return_counts=True)\n",
    "\n",
    "    maior_quantidade = counts.max()\n",
    "\n",
    "    modas = vals[counts == maior_quantidade]\n",
    "    \n",
    "    return modas.mean()"
   ]
  },
  {
   "cell_type": "code",
   "execution_count": null,
   "metadata": {},
   "outputs": [],
   "source": [
    "def moda(imagem_bordas_tratadas, imagem_processada, linhas_add, colunas_add):\n",
    "    for i in range(linhas_add, imagem_bordas_tratadas.shape[0] - linhas_add):\n",
    "        for j in range(colunas_add, imagem_bordas_tratadas.shape[1] - colunas_add):\n",
    "            imagem_processada[i - linhas_add][j - colunas_add] = calc_moda(imagem_bordas_tratadas[i - linhas_add:i + linhas_add + 1, j - colunas_add:j + colunas_add + 1])\n",
    "    return imagem_processada "
   ]
  },
  {
   "cell_type": "code",
   "execution_count": null,
   "metadata": {},
   "outputs": [],
   "source": [
    "def max(imagem_bordas_tratadas, imagem_processada, linhas_add, colunas_add):\n",
    "    for i in range(linhas_add, imagem_bordas_tratadas.shape[0] - linhas_add):\n",
    "        for j in range(colunas_add, imagem_bordas_tratadas.shape[1] - colunas_add):\n",
    "            imagem_processada[i - linhas_add][j - colunas_add] = np.max(imagem_bordas_tratadas[i - linhas_add:i + linhas_add + 1, j - colunas_add:j + colunas_add + 1])\n",
    "    return imagem_processada "
   ]
  },
  {
   "cell_type": "code",
   "execution_count": null,
   "metadata": {},
   "outputs": [],
   "source": [
    "def min(imagem_bordas_tratadas, imagem_processada, linhas_add, colunas_add):\n",
    "    for i in range(linhas_add, imagem_bordas_tratadas.shape[0] - linhas_add):\n",
    "        for j in range(colunas_add, imagem_bordas_tratadas.shape[1] - colunas_add):\n",
    "            imagem_processada[i - linhas_add][j - colunas_add] = np.min(imagem_bordas_tratadas[i - linhas_add:i + linhas_add + 1, j - colunas_add:j + colunas_add + 1])\n",
    "    return imagem_processada "
   ]
  },
  {
   "cell_type": "code",
   "execution_count": null,
   "metadata": {},
   "outputs": [],
   "source": [
    "def no_linear_filters(img, kernel, borda='ignore', filter='median'):\n",
    "    linhas_add = (kernel.shape[0] - 1) // 2\n",
    "    colunas_add = (kernel.shape[1] - 1) // 2\n",
    "    try:\n",
    "        canais = img.shape[2]\n",
    "    except:\n",
    "        canais = 1\n",
    "    imagem_bordas_tratadas = trataBordas(img, linhas_add, colunas_add, borda)\n",
    "    if canais == 1:\n",
    "        imagem_processada = np.zeros((img.shape[0], img.shape[1]))\n",
    "        if filter == 'median':\n",
    "            imagem_processada = median(imagem_bordas_tratadas, imagem_processada, linhas_add, colunas_add)\n",
    "        elif filter == 'moda':\n",
    "            imagem_processada = moda(imagem_bordas_tratadas, imagem_processada, linhas_add, colunas_add)\n",
    "        elif filter == 'max':\n",
    "            imagem_processada = max(imagem_bordas_tratadas, imagem_processada, linhas_add, colunas_add)\n",
    "        elif filter == 'min':\n",
    "            imagem_processada = min(imagem_bordas_tratadas, imagem_processada, linhas_add, colunas_add)\n",
    "    else:\n",
    "        imagem_r = np.zeros((img.shape[0], img.shape[1]))\n",
    "        imagem_g = np.zeros((img.shape[0], img.shape[1]))\n",
    "        imagem_b = np.zeros((img.shape[0], img.shape[1]))\n",
    "        if filter == 'median':\n",
    "            imagem_r = median(imagem_bordas_tratadas[:, :, 0], imagem_r, linhas_add, colunas_add)\n",
    "            imagem_g = median(imagem_bordas_tratadas[:, :, 1], imagem_g, linhas_add, colunas_add)\n",
    "            imagem_b = median(imagem_bordas_tratadas[:, :, 2], imagem_b, linhas_add, colunas_add)\n",
    "        elif filter == 'moda':\n",
    "            imagem_r = moda(imagem_bordas_tratadas[:, :, 0], imagem_r, linhas_add, colunas_add)\n",
    "            imagem_g = moda(imagem_bordas_tratadas[:, :, 1], imagem_g, linhas_add, colunas_add)\n",
    "            imagem_b = moda(imagem_bordas_tratadas[:, :, 2], imagem_b, linhas_add, colunas_add)\n",
    "        elif filter == 'max':\n",
    "            imagem_r = max(imagem_bordas_tratadas[:, :, 0], imagem_r, linhas_add, colunas_add)\n",
    "            imagem_g = max(imagem_bordas_tratadas[:, :, 1], imagem_g, linhas_add, colunas_add)\n",
    "            imagem_b = max(imagem_bordas_tratadas[:, :, 2], imagem_b, linhas_add, colunas_add)\n",
    "        elif filter == 'min':\n",
    "            imagem_r = min(imagem_bordas_tratadas[:, :, 0], imagem_r, linhas_add, colunas_add)\n",
    "            imagem_g = min(imagem_bordas_tratadas[:, :, 1], imagem_g, linhas_add, colunas_add)\n",
    "            imagem_b = min(imagem_bordas_tratadas[:, :, 2], imagem_b, linhas_add, colunas_add)\n",
    "        imagem_processada = np.dstack((imagem_r, imagem_g, imagem_b))\n",
    "\n",
    "\n",
    "    return imagem_processada.astype(np.uint8)"
   ]
  },
  {
   "cell_type": "code",
   "execution_count": null,
   "metadata": {},
   "outputs": [],
   "source": [
    "imagem_mediana = no_linear_filters(img, kernel, borda='zero', filter='median')\n",
    "imagem_moda = no_linear_filters(img, kernel, borda='zero', filter='moda')\n",
    "imagem_max = no_linear_filters(img, kernel, borda='zero', filter='max')\n",
    "imagem_min = no_linear_filters(img, kernel, borda='zero', filter='min')"
   ]
  },
  {
   "cell_type": "code",
   "execution_count": null,
   "metadata": {},
   "outputs": [],
   "source": [
    "fig = plt.figure(figsize=(15, 15))\n",
    "fig.add_subplot(1, 5, 1)\n",
    "plt.title('Imagem Original')\n",
    "plt.imshow(img, cmap='gray')\n",
    "fig.add_subplot(1, 5, 2)\n",
    "plt.title('Imagem Mediana')\n",
    "plt.imshow(imagem_mediana, cmap='gray')\n",
    "fig.add_subplot(1, 5, 3)\n",
    "plt.title('Imagem Moda')\n",
    "plt.imshow(imagem_moda, cmap='gray')\n",
    "fig.add_subplot(1, 5, 4)\n",
    "plt.title('Imagem Max')\n",
    "plt.imshow(imagem_max, cmap='gray')\n",
    "fig.add_subplot(1, 5, 5)\n",
    "plt.title('Imagem Min')    \n",
    "plt.imshow(imagem_min, cmap='gray')"
   ]
  },
  {
   "cell_type": "markdown",
   "metadata": {},
   "source": [
    "## Aplicando filtros da media e mediana em uma imagem ruidosa"
   ]
  },
  {
   "cell_type": "code",
   "execution_count": null,
   "metadata": {},
   "outputs": [],
   "source": [
    "img_com_ruido = imread('mulher-ruido.png')"
   ]
  },
  {
   "cell_type": "code",
   "execution_count": null,
   "metadata": {},
   "outputs": [],
   "source": [
    "imagem_mediana = no_linear_filters(img_com_ruido, np.ones((3,3)), borda='zero', filter='median')\n",
    "imagem_media = convolucao(img_com_ruido, media, borda='zero')"
   ]
  },
  {
   "cell_type": "code",
   "execution_count": null,
   "metadata": {},
   "outputs": [],
   "source": [
    "fig = plt.figure(figsize=(15, 15))\n",
    "fig.add_subplot(1, 3, 1)\n",
    "plt.title('Imagem Original')\n",
    "plt.imshow(img_com_ruido, cmap='gray')\n",
    "fig.add_subplot(1, 3, 2)\n",
    "plt.title('Imagem Media')\n",
    "plt.imshow(imagem_media, cmap='gray')\n",
    "fig.add_subplot(1, 3, 3)\n",
    "plt.title('Imagem Mediana')\n",
    "plt.imshow(imagem_mediana, cmap='gray')"
   ]
  },
  {
   "cell_type": "code",
   "execution_count": null,
   "metadata": {},
   "outputs": [],
   "source": [
    "imagem_media.max()"
   ]
  },
  {
   "attachments": {},
   "cell_type": "markdown",
   "metadata": {},
   "source": [
    "## Realce de imagem com fialtro laplaciano"
   ]
  },
  {
   "cell_type": "code",
   "execution_count": null,
   "metadata": {},
   "outputs": [],
   "source": [
    "# Carregando a imagem\n",
    "img = imread('COVID-1.png', as_gray=True)\n",
    "plt.imshow(img, cmap='gray')\n",
    "\n",
    "img.shape# Carregando a imagem"
   ]
  },
  {
   "cell_type": "code",
   "execution_count": null,
   "metadata": {},
   "outputs": [],
   "source": [
    "laplace = np.array([\n",
    "            [1, 1, 1],\n",
    "            [1, -8, 1],\n",
    "            [1, 1, 1]\n",
    "            ])"
   ]
  },
  {
   "cell_type": "code",
   "execution_count": null,
   "metadata": {},
   "outputs": [],
   "source": [
    "img_laplace = convolucao(img, laplace, borda='espelho')"
   ]
  },
  {
   "cell_type": "code",
   "execution_count": null,
   "metadata": {},
   "outputs": [],
   "source": [
    "plt.imshow(img_laplace, cmap='gray')"
   ]
  },
  {
   "cell_type": "code",
   "execution_count": null,
   "metadata": {},
   "outputs": [],
   "source": [
    "img_detalhada = img + (-1 * img_laplace)\n",
    "\n",
    "img_detalhada[img_detalhada < 0] = 0\n",
    "img_detalhada[img_detalhada > 255] = 255\n",
    "\n",
    "plt.imshow(img_detalhada, cmap='gray')"
   ]
  },
  {
   "attachments": {},
   "cell_type": "markdown",
   "metadata": {},
   "source": [
    "Resultado: foi destacadas a as regiões de descontinuidade."
   ]
  },
  {
   "attachments": {},
   "cell_type": "markdown",
   "metadata": {},
   "source": [
    "# Máscara de nitidez com filtragem high-boost"
   ]
  },
  {
   "cell_type": "code",
   "execution_count": null,
   "metadata": {},
   "outputs": [],
   "source": [
    "img = imread('COVID-1.png', as_gray=True)\n",
    "img = no_linear_filters(img, np.ones((3, 3)), borda='zero', filter='median')\n",
    "\n",
    "# Suavização com filtro da media\n",
    "media = np.ones((9, 9)) * (1/81)\n",
    "img_borrada = convolucao(img, media, borda='espelho')\n",
    "plt.imshow(img_borrada, cmap='gray')"
   ]
  },
  {
   "cell_type": "code",
   "execution_count": null,
   "metadata": {},
   "outputs": [],
   "source": [
    "# Criando a máscara de nitidez\n",
    "mascara = img - img_borrada\n",
    "plt.imshow(mascara, cmap='gray')"
   ]
  },
  {
   "cell_type": "code",
   "execution_count": null,
   "metadata": {},
   "outputs": [],
   "source": [
    "k = [0.1, 0.5, 1, 1.5, 2]\n",
    "image_high_boost_0 = img + (k[0] * mascara)\n",
    "image_high_boost_1 = img + (k[1] * mascara)\n",
    "image_high_boost_2 = img + (k[2] * mascara)\n",
    "image_high_boost_3 = img + (k[3] * mascara)\n",
    "image_high_boost_4 = img + (k[4] * mascara)\n",
    "fig = plt.figure(figsize=(15, 15))\n",
    "fig.add_subplot(1, 5, 1)\n",
    "# para k < 1, reduz a contribuição da máscara;\n",
    "plt.title('k = 0.1')\n",
    "plt.imshow(image_high_boost_0, cmap='gray')\n",
    "fig.add_subplot(1, 5, 2)\n",
    "plt.title('k = 0.5')\n",
    "plt.imshow(image_high_boost_1, cmap='gray')\n",
    "fig.add_subplot(1, 5, 3)\n",
    "#  para k = 1, a máscara é somada à imagem original;\n",
    "plt.title('k = 1')\n",
    "plt.imshow(image_high_boost_2, cmap='gray')\n",
    "fig.add_subplot(1, 5, 4)\n",
    "# para k > 1, o processo é conhecido como high-boost filtering (filtro com ênfase).\n",
    "plt.title('k = 1.5')\n",
    "plt.imshow(image_high_boost_3, cmap='gray')\n",
    "fig.add_subplot(1, 5, 5)\n",
    "plt.title('k = 2')    \n",
    "plt.imshow(image_high_boost_4, cmap='gray')"
   ]
  },
  {
   "attachments": {},
   "cell_type": "markdown",
   "metadata": {},
   "source": [
    "Resultado: Quanto maior o valor do k, maior sera a contribuição da máscara de nitidez na imagem aresultante."
   ]
  }
 ],
 "metadata": {
  "kernelspec": {
   "display_name": "base",
   "language": "python",
   "name": "python3"
  },
  "language_info": {
   "codemirror_mode": {
    "name": "ipython",
    "version": 3
   },
   "file_extension": ".py",
   "mimetype": "text/x-python",
   "name": "python",
   "nbconvert_exporter": "python",
   "pygments_lexer": "ipython3",
   "version": "3.9.13 (main, Aug 25 2022, 23:51:50) [MSC v.1916 64 bit (AMD64)]"
  },
  "vscode": {
   "interpreter": {
    "hash": "7758e92e9a61d7a3490898707f7eeb937c85e9d1e8d4e877cc6c187218f226d5"
   }
  }
 },
 "nbformat": 4,
 "nbformat_minor": 2
}
